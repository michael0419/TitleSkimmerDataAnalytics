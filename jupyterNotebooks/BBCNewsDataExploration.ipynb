{
 "cells": [
  {
   "cell_type": "code",
   "execution_count": 1,
   "id": "66e6a8a8",
   "metadata": {},
   "outputs": [
    {
     "name": "stderr",
     "output_type": "stream",
     "text": [
      "[nltk_data] Downloading package stopwords to\n",
      "[nltk_data]     C:\\Users\\micha\\AppData\\Roaming\\nltk_data...\n",
      "[nltk_data]   Unzipping corpora\\stopwords.zip.\n",
      "[nltk_data] Downloading package punkt to\n",
      "[nltk_data]     C:\\Users\\micha\\AppData\\Roaming\\nltk_data...\n",
      "[nltk_data]   Package punkt is already up-to-date!\n",
      "[nltk_data] Downloading package wordnet to\n",
      "[nltk_data]     C:\\Users\\micha\\AppData\\Roaming\\nltk_data...\n",
      "[nltk_data]   Package wordnet is already up-to-date!\n",
      "[nltk_data] Downloading package averaged_perceptron_tagger to\n",
      "[nltk_data]     C:\\Users\\micha\\AppData\\Roaming\\nltk_data...\n",
      "[nltk_data]   Package averaged_perceptron_tagger is already up-to-\n",
      "[nltk_data]       date!\n"
     ]
    }
   ],
   "source": [
    "# Import pandas for data handling\n",
    "import pandas as pd\n",
    "\n",
    "# NLTK is our Natural-Language-Took-Kit\n",
    "import nltk\n",
    "from nltk.corpus import stopwords\n",
    "from nltk import word_tokenize\n",
    "from nltk.stem import PorterStemmer\n",
    "from nltk.stem import WordNetLemmatizer\n",
    "from nltk.corpus import wordnet\n",
    "\n",
    "# Libraries for helping us with strings\n",
    "import string\n",
    "# Regular Expression Library\n",
    "import re\n",
    "\n",
    "# Import our text vectorizers\n",
    "from sklearn.feature_extraction.text import CountVectorizer\n",
    "from sklearn.feature_extraction.text import TfidfVectorizer\n",
    "\n",
    "\n",
    "# Import our classifiers\n",
    "from sklearn.naive_bayes import MultinomialNB\n",
    "from sklearn.ensemble import RandomForestClassifier\n",
    "\n",
    "\n",
    "# Import some ML helper function\n",
    "from sklearn.model_selection import train_test_split\n",
    "from sklearn.metrics import plot_confusion_matrix\n",
    "from sklearn.metrics import classification_report\n",
    "from sklearn.model_selection import GridSearchCV\n",
    "\n",
    "\n",
    "# Import our metrics to evaluate our model\n",
    "from sklearn import metrics\n",
    "from sklearn.metrics import classification_report\n",
    "\n",
    "\n",
    "# Library for plotting\n",
    "import matplotlib.pyplot as plt\n",
    "import seaborn as sns\n",
    "\n",
    "# You may need to download these from nltk\n",
    "nltk.download('stopwords')\n",
    "nltk.download('punkt')\n",
    "nltk.download('wordnet')\n",
    "nltk.download('averaged_perceptron_tagger')\n",
    "stopwords = stopwords.words('english')"
   ]
  },
  {
   "cell_type": "code",
   "execution_count": 9,
   "id": "e9be9cf9",
   "metadata": {},
   "outputs": [
    {
     "data": {
      "text/html": [
       "<div>\n",
       "<style scoped>\n",
       "    .dataframe tbody tr th:only-of-type {\n",
       "        vertical-align: middle;\n",
       "    }\n",
       "\n",
       "    .dataframe tbody tr th {\n",
       "        vertical-align: top;\n",
       "    }\n",
       "\n",
       "    .dataframe thead th {\n",
       "        text-align: right;\n",
       "    }\n",
       "</style>\n",
       "<table border=\"1\" class=\"dataframe\">\n",
       "  <thead>\n",
       "    <tr style=\"text-align: right;\">\n",
       "      <th></th>\n",
       "      <th>category</th>\n",
       "      <th>filename</th>\n",
       "      <th>title</th>\n",
       "      <th>content</th>\n",
       "    </tr>\n",
       "  </thead>\n",
       "  <tbody>\n",
       "    <tr>\n",
       "      <th>0</th>\n",
       "      <td>business</td>\n",
       "      <td>001.txt</td>\n",
       "      <td>Ad sales boost Time Warner profit</td>\n",
       "      <td>Quarterly profits at US media giant TimeWarne...</td>\n",
       "    </tr>\n",
       "    <tr>\n",
       "      <th>1</th>\n",
       "      <td>business</td>\n",
       "      <td>002.txt</td>\n",
       "      <td>Dollar gains on Greenspan speech</td>\n",
       "      <td>The dollar has hit its highest level against ...</td>\n",
       "    </tr>\n",
       "    <tr>\n",
       "      <th>2</th>\n",
       "      <td>business</td>\n",
       "      <td>003.txt</td>\n",
       "      <td>Yukos unit buyer faces loan claim</td>\n",
       "      <td>The owners of embattled Russian oil giant Yuk...</td>\n",
       "    </tr>\n",
       "    <tr>\n",
       "      <th>3</th>\n",
       "      <td>business</td>\n",
       "      <td>004.txt</td>\n",
       "      <td>High fuel prices hit BA's profits</td>\n",
       "      <td>British Airways has blamed high fuel prices f...</td>\n",
       "    </tr>\n",
       "    <tr>\n",
       "      <th>4</th>\n",
       "      <td>business</td>\n",
       "      <td>005.txt</td>\n",
       "      <td>Pernod takeover talk lifts Domecq</td>\n",
       "      <td>Shares in UK drinks and food firm Allied Dome...</td>\n",
       "    </tr>\n",
       "  </tbody>\n",
       "</table>\n",
       "</div>"
      ],
      "text/plain": [
       "   category filename                              title  \\\n",
       "0  business  001.txt  Ad sales boost Time Warner profit   \n",
       "1  business  002.txt   Dollar gains on Greenspan speech   \n",
       "2  business  003.txt  Yukos unit buyer faces loan claim   \n",
       "3  business  004.txt  High fuel prices hit BA's profits   \n",
       "4  business  005.txt  Pernod takeover talk lifts Domecq   \n",
       "\n",
       "                                             content  \n",
       "0   Quarterly profits at US media giant TimeWarne...  \n",
       "1   The dollar has hit its highest level against ...  \n",
       "2   The owners of embattled Russian oil giant Yuk...  \n",
       "3   British Airways has blamed high fuel prices f...  \n",
       "4   Shares in UK drinks and food firm Allied Dome...  "
      ]
     },
     "execution_count": 9,
     "metadata": {},
     "output_type": "execute_result"
    }
   ],
   "source": [
    "df = pd.read_csv(\"data/bbc-news-data.csv\", sep = '\\t')\n",
    "df.head()"
   ]
  },
  {
   "cell_type": "code",
   "execution_count": 10,
   "id": "2797c7b6",
   "metadata": {},
   "outputs": [
    {
     "data": {
      "text/plain": [
       "(2225, 4)"
      ]
     },
     "execution_count": 10,
     "metadata": {},
     "output_type": "execute_result"
    }
   ],
   "source": [
    "df.shape"
   ]
  },
  {
   "cell_type": "code",
   "execution_count": 11,
   "id": "fcb1101f",
   "metadata": {},
   "outputs": [
    {
     "data": {
      "text/plain": [
       "category    0\n",
       "filename    0\n",
       "title       0\n",
       "content     0\n",
       "dtype: int64"
      ]
     },
     "execution_count": 11,
     "metadata": {},
     "output_type": "execute_result"
    }
   ],
   "source": [
    "df.isnull().sum()"
   ]
  },
  {
   "cell_type": "code",
   "execution_count": 12,
   "id": "2c6749b6",
   "metadata": {},
   "outputs": [
    {
     "data": {
      "text/plain": [
       "sport            511\n",
       "business         510\n",
       "politics         417\n",
       "tech             401\n",
       "entertainment    386\n",
       "Name: category, dtype: int64"
      ]
     },
     "execution_count": 12,
     "metadata": {},
     "output_type": "execute_result"
    }
   ],
   "source": [
    "df.category.value_counts()"
   ]
  },
  {
   "cell_type": "markdown",
   "id": "336c2ab1",
   "metadata": {},
   "source": [
    "# Preliminary making of models"
   ]
  },
  {
   "cell_type": "code",
   "execution_count": 13,
   "id": "c6e17a48",
   "metadata": {},
   "outputs": [],
   "source": [
    "#functions to clean up text\n",
    "def return_lower(text):\n",
    "    return text.lower()\n",
    "\n",
    "def remove_punctuation(text):\n",
    "    text = re.sub(r'[^\\w\\s]','', text)\n",
    "    return text\n",
    "\n",
    "def remove_stopwords(text):\n",
    "    words = word_tokenize(text)\n",
    "    valid_words = []\n",
    "    for word in words:\n",
    "        if word not in stopwords:\n",
    "            valid_words.append(word)\n",
    "    text = \" \".join(valid_words)\n",
    "    return text;\n",
    "\n",
    "def stem_words(text):\n",
    "    #initialize stemmer\n",
    "    porter = PorterStemmer()\n",
    "    #tokenize words\n",
    "    words = word_tokenize(text)\n",
    "    #place to append valid words\n",
    "    valid_words = []\n",
    "    \n",
    "    for word in words:\n",
    "        stem_word = porter.stem(word)\n",
    "        valid_words.append(stem_word)\n",
    "    text = \" \".join(valid_words)\n",
    "    return text\n",
    "\n",
    "def text_pipeline(input_string):\n",
    "    input_string = return_lower(input_string)\n",
    "    input_string = remove_punctuation(input_string)\n",
    "    input_string = remove_stopwords(input_string)\n",
    "    input_string = stem_words(input_string)\n",
    "    return input_string"
   ]
  },
  {
   "cell_type": "code",
   "execution_count": 16,
   "id": "216fbf79",
   "metadata": {},
   "outputs": [
    {
     "name": "stdout",
     "output_type": "stream",
     "text": [
      "ORIGINAL TEXT\n",
      ": Ad sales boost Time Warner profit\n",
      "CLEANDED TEXT\n",
      ": ad sale boost time warner profit\n"
     ]
    }
   ],
   "source": [
    "#Try making clean titles\n",
    "df['title_clean'] = df['title'].apply(text_pipeline)\n",
    "\n",
    "print(\"ORIGINAL TEXT\\n:\", df['title'][0])\n",
    "print(\"CLEANDED TEXT\\n:\", df['title_clean'][0])"
   ]
  },
  {
   "cell_type": "code",
   "execution_count": 17,
   "id": "8d3ecfb5",
   "metadata": {},
   "outputs": [],
   "source": [
    "#Set up for NLP\n",
    "X = df['title_clean'].values\n",
    "y = df['category'].values"
   ]
  },
  {
   "cell_type": "code",
   "execution_count": 18,
   "id": "b48feb4c",
   "metadata": {},
   "outputs": [
    {
     "name": "stdout",
     "output_type": "stream",
     "text": [
      "(2225, 3094)\n",
      "We have: 3094 features\n"
     ]
    }
   ],
   "source": [
    "#text vectorization Tfidf\n",
    "vectorizer = TfidfVectorizer()\n",
    "vectorizer.fit(X)\n",
    "X = vectorizer.transform(X)\n",
    "print(X.shape)\n",
    "print(\"We have:\", X.shape[-1], \"features\")"
   ]
  },
  {
   "cell_type": "code",
   "execution_count": 41,
   "id": "fd1b821e",
   "metadata": {},
   "outputs": [
    {
     "name": "stdout",
     "output_type": "stream",
     "text": [
      "{'alpha': 0.2}\n"
     ]
    }
   ],
   "source": [
    "#Training the model\n",
    "X_train, X_test, y_train, y_test = train_test_split(X, y, test_size=0.2, random_state=102121)\n",
    "\n",
    "params = {\n",
    "    'alpha':[ 0.1, 0.2, 0.4, 1],\n",
    "}\n",
    "\n",
    "grid_search_cv = GridSearchCV(\n",
    "    estimator = MultinomialNB(),\n",
    "    param_grid = params,\n",
    "    scoring = 'f1_weighted'\n",
    ")\n",
    "\n",
    "grid_search_cv.fit(X_train, y_train)\n",
    "print(grid_search_cv.best_params_)\n",
    "\n",
    "model = grid_search_cv.best_estimator_"
   ]
  },
  {
   "cell_type": "code",
   "execution_count": 42,
   "id": "e90b92eb",
   "metadata": {},
   "outputs": [
    {
     "name": "stdout",
     "output_type": "stream",
     "text": [
      "Model Accuracy: 0.802247\n"
     ]
    }
   ],
   "source": [
    "#Evaluate model\n",
    "accuracy = model.score(X_test, y_test)\n",
    "print(\"Model Accuracy: %f\" % accuracy)"
   ]
  },
  {
   "cell_type": "code",
   "execution_count": 43,
   "id": "82c9a3ed",
   "metadata": {},
   "outputs": [
    {
     "data": {
      "text/plain": [
       "<sklearn.metrics._plot.confusion_matrix.ConfusionMatrixDisplay at 0x24805f460a0>"
      ]
     },
     "execution_count": 43,
     "metadata": {},
     "output_type": "execute_result"
    },
    {
     "data": {
      "image/png": "[encoded data removed]",
      "text/plain": [
       "<Figure size 1512x1512 with 2 Axes>"
      ]
     },
     "metadata": {
      "needs_background": "light"
     },
     "output_type": "display_data"
    }
   ],
   "source": [
    "# Confusion matrix of our predictions\n",
    "fig, ax = plt.subplots(figsize=(21, 21))\n",
    "\n",
    "disp = plot_confusion_matrix(model, X_test, y_test,\n",
    "                             display_labels=model.classes_,\n",
    "                             cmap=plt.cm.Blues, ax=ax)\n",
    "plt.xticks(rotation=90)\n",
    "disp"
   ]
  },
  {
   "cell_type": "code",
   "execution_count": 44,
   "id": "b8e95e56",
   "metadata": {},
   "outputs": [
    {
     "name": "stdout",
     "output_type": "stream",
     "text": [
      "               precision    recall  f1-score   support\n",
      "\n",
      "     business       0.76      0.82      0.79        97\n",
      "entertainment       0.78      0.72      0.75        72\n",
      "     politics       0.79      0.88      0.83        77\n",
      "        sport       0.87      0.80      0.83       115\n",
      "         tech       0.80      0.77      0.79        84\n",
      "\n",
      "     accuracy                           0.80       445\n",
      "    macro avg       0.80      0.80      0.80       445\n",
      " weighted avg       0.80      0.80      0.80       445\n",
      "\n"
     ]
    }
   ],
   "source": [
    "#classification report\n",
    "y_pred = model.predict(X_test)\n",
    "print(classification_report(y_test, y_pred, target_names=model.classes_))"
   ]
  },
  {
   "cell_type": "code",
   "execution_count": 45,
   "id": "bf2c9717",
   "metadata": {},
   "outputs": [
    {
     "name": "stdout",
     "output_type": "stream",
     "text": [
      "(2225, 3754)\n",
      "We have: 3754 features\n",
      "{'alpha': 0.1}\n",
      "Model Accuracy: 0.808989\n"
     ]
    },
    {
     "data": {
      "text/plain": [
       "<sklearn.metrics._plot.confusion_matrix.ConfusionMatrixDisplay at 0x24805f3f2b0>"
      ]
     },
     "execution_count": 45,
     "metadata": {},
     "output_type": "execute_result"
    },
    {
     "data": {
      "image/png": "[encoded data removed]",
      "text/plain": [
       "<Figure size 1512x1512 with 2 Axes>"
      ]
     },
     "metadata": {
      "needs_background": "light"
     },
     "output_type": "display_data"
    }
   ],
   "source": [
    "#With raw titles might perform better?\n",
    "X = df['title'].values\n",
    "y = df['category'].values\n",
    "\n",
    "vectorizer = TfidfVectorizer()\n",
    "vectorizer.fit(X)\n",
    "X = vectorizer.transform(X)\n",
    "print(X.shape)\n",
    "print(\"We have:\", X.shape[-1], \"features\")\n",
    "\n",
    "#Training the model\n",
    "X_train, X_test, y_train, y_test = train_test_split(X, y, test_size=0.2, random_state=102121)\n",
    "\n",
    "params = {\n",
    "    'alpha':[ 0.1, 0.2, 0.4, 1],\n",
    "}\n",
    "\n",
    "grid_search_cv = GridSearchCV(\n",
    "    estimator = MultinomialNB(),\n",
    "    param_grid = params,\n",
    "    scoring = 'f1_weighted'\n",
    ")\n",
    "\n",
    "grid_search_cv.fit(X_train, y_train)\n",
    "print(grid_search_cv.best_params_)\n",
    "\n",
    "model = grid_search_cv.best_estimator_\n",
    "\n",
    "#Evaluate model\n",
    "accuracy = model.score(X_test, y_test)\n",
    "print(\"Model Accuracy: %f\" % accuracy)\n",
    "\n",
    "# Confusion matrix of our predictions\n",
    "fig, ax = plt.subplots(figsize=(21, 21))\n",
    "\n",
    "disp = plot_confusion_matrix(model, X_test, y_test,\n",
    "                             display_labels=model.classes_,\n",
    "                             cmap=plt.cm.Blues, ax=ax)\n",
    "plt.xticks(rotation=90)\n",
    "disp"
   ]
  },
  {
   "cell_type": "code",
   "execution_count": 46,
   "id": "19f6cd8b",
   "metadata": {},
   "outputs": [
    {
     "name": "stdout",
     "output_type": "stream",
     "text": [
      "               precision    recall  f1-score   support\n",
      "\n",
      "     business       0.77      0.81      0.79        97\n",
      "entertainment       0.77      0.74      0.75        72\n",
      "     politics       0.80      0.87      0.83        77\n",
      "        sport       0.89      0.80      0.84       115\n",
      "         tech       0.79      0.82      0.81        84\n",
      "\n",
      "     accuracy                           0.81       445\n",
      "    macro avg       0.81      0.81      0.81       445\n",
      " weighted avg       0.81      0.81      0.81       445\n",
      "\n"
     ]
    }
   ],
   "source": [
    "#classification report\n",
    "y_pred = model.predict(X_test)\n",
    "print(classification_report(y_test, y_pred, target_names=model.classes_))"
   ]
  },
  {
   "cell_type": "code",
   "execution_count": null,
   "id": "324a1e66",
   "metadata": {},
   "outputs": [],
   "source": [
    "#noted f1 score is 0.01 better!"
   ]
  },
  {
   "cell_type": "code",
   "execution_count": 53,
   "id": "c52bb919",
   "metadata": {},
   "outputs": [
    {
     "name": "stdout",
     "output_type": "stream",
     "text": [
      "(2225, 3094)\n",
      "We have: 3094 features\n",
      "{'alpha': 0.4}\n",
      "Model Accuracy: 0.808989\n",
      "               precision    recall  f1-score   support\n",
      "\n",
      "     business       0.77      0.81      0.79        97\n",
      "entertainment       0.82      0.74      0.77        72\n",
      "     politics       0.78      0.90      0.83        77\n",
      "        sport       0.89      0.78      0.83       115\n",
      "         tech       0.78      0.82      0.80        84\n",
      "\n",
      "     accuracy                           0.81       445\n",
      "    macro avg       0.81      0.81      0.81       445\n",
      " weighted avg       0.81      0.81      0.81       445\n",
      "\n"
     ]
    },
    {
     "data": {
      "text/plain": [
       "<sklearn.metrics._plot.confusion_matrix.ConfusionMatrixDisplay at 0x24806e32e80>"
      ]
     },
     "execution_count": 53,
     "metadata": {},
     "output_type": "execute_result"
    },
    {
     "data": {
      "image/png": "[encoded data removed]",
      "text/plain": [
       "<Figure size 1512x1512 with 2 Axes>"
      ]
     },
     "metadata": {
      "needs_background": "light"
     },
     "output_type": "display_data"
    }
   ],
   "source": [
    "#Vectorizer to BOW might also be better?\n",
    "X = df['title_clean'].values\n",
    "y = df['category'].values\n",
    "\n",
    "vectorizer = CountVectorizer()\n",
    "vectorizer.fit(X)\n",
    "X = vectorizer.transform(X)\n",
    "print(X.shape)\n",
    "print(\"We have:\", X.shape[-1], \"features\")\n",
    "\n",
    "#Training the model\n",
    "X_train, X_test, y_train, y_test = train_test_split(X, y, test_size=0.2, random_state=102121)\n",
    "\n",
    "params = {\n",
    "    'alpha':[ 0.01, 0.05, 0.1, 0.2, 0.3, 0.4, 0.5, 1],\n",
    "}\n",
    "\n",
    "grid_search_cv = GridSearchCV(\n",
    "    estimator = MultinomialNB(),\n",
    "    param_grid = params,\n",
    "    scoring = 'accuracy'\n",
    ")\n",
    "\n",
    "grid_search_cv.fit(X_train, y_train)\n",
    "print(grid_search_cv.best_params_)\n",
    "\n",
    "model = grid_search_cv.best_estimator_\n",
    "\n",
    "#Evaluate model\n",
    "accuracy = model.score(X_test, y_test)\n",
    "print(\"Model Accuracy: %f\" % accuracy)\n",
    "\n",
    "#classification report\n",
    "y_pred = model.predict(X_test)\n",
    "print(classification_report(y_test, y_pred, target_names=model.classes_))\n",
    "\n",
    "# Confusion matrix of our predictions\n",
    "fig, ax = plt.subplots(figsize=(21, 21))\n",
    "\n",
    "disp = plot_confusion_matrix(model, X_test, y_test,\n",
    "                             display_labels=model.classes_,\n",
    "                             cmap=plt.cm.Blues, ax=ax)\n",
    "plt.xticks(rotation=90)\n",
    "disp"
   ]
  },
  {
   "cell_type": "code",
   "execution_count": null,
   "id": "049b2881",
   "metadata": {},
   "outputs": [],
   "source": []
  }
 ],
 "metadata": {
  "kernelspec": {
   "display_name": "Python 3",
   "language": "python",
   "name": "python3"
  },
  "language_info": {
   "codemirror_mode": {
    "name": "ipython",
    "version": 3
   },
   "file_extension": ".py",
   "mimetype": "text/x-python",
   "name": "python",
   "nbconvert_exporter": "python",
   "pygments_lexer": "ipython3",
   "version": "3.8.8"
  }
 },
 "nbformat": 4,
 "nbformat_minor": 5
}
